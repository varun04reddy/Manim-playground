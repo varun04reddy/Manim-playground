{
 "cells": [
  {
   "cell_type": "markdown",
   "metadata": {},
   "source": [
    "# Plot Points from Streamlit Dashboard\n",
    "\n",
    "This notebook loads and visualizes data points extracted from the Point Finder Dashboard.\n",
    "\n",
    "**Supports both CSV and JSON formats**"
   ]
  },
  {
   "cell_type": "code",
   "execution_count": null,
   "metadata": {},
   "outputs": [],
   "source": [
    "import pandas as pd\n",
    "import numpy as np\n",
    "import matplotlib.pyplot as plt\n",
    "import json\n",
    "from pathlib import Path\n",
    "from PIL import Image\n",
    "\n",
    "# Set up matplotlib for better plots\n",
    "plt.rcParams['figure.figsize'] = (12, 8)\n",
    "plt.rcParams['font.size'] = 12"
   ]
  },
  {
   "cell_type": "markdown",
   "metadata": {},
   "source": [
    "## 1. Load Points from CSV\n",
    "\n",
    "CSV format from the dashboard:\n",
    "```\n",
    "px_x,px_y,norm_x,norm_y\n",
    "```"
   ]
  },
  {
   "cell_type": "code",
   "execution_count": null,
   "metadata": {},
   "outputs": [],
   "source": [
    "# Load CSV file\n",
    "csv_file = 'sample_points.csv'  # Change this to your downloaded CSV file\n",
    "\n",
    "df = pd.read_csv(csv_file)\n",
    "print(f\"Loaded {len(df)} points from {csv_file}\")\n",
    "print(\"\\nData preview:\")\n",
    "df.head()"
   ]
  },
  {
   "cell_type": "markdown",
   "metadata": {},
   "source": [
    "## 2. Load Points from JSON (Alternative)\n",
    "\n",
    "JSON format includes image metadata and is preferred for downstream work."
   ]
  },
  {
   "cell_type": "code",
   "execution_count": null,
   "metadata": {},
   "outputs": [],
   "source": [
    "# Load JSON file\n",
    "json_file = 'sample_points.json'  # Change this to your downloaded JSON file\n",
    "\n",
    "with open(json_file, 'r') as f:\n",
    "    data = json.load(f)\n",
    "\n",
    "print(f\"Image: {data['image_path']}\")\n",
    "print(f\"Dimensions: {data['width']} x {data['height']} px\")\n",
    "print(f\"Rotation applied: {data['rotate_deg']}°\")\n",
    "print(f\"Number of points: {len(data['points_px'])}\")\n",
    "\n",
    "# Convert to DataFrame for easier manipulation\n",
    "df_json = pd.DataFrame({\n",
    "    'px_x': [p[0] for p in data['points_px']],\n",
    "    'px_y': [p[1] for p in data['points_px']],\n",
    "    'norm_x': [p[0] for p in data['points_norm']],\n",
    "    'norm_y': [p[1] for p in data['points_norm']]\n",
    "})\n",
    "\n",
    "print(\"\\nJSON data as DataFrame:\")\n",
    "df_json.head()"
   ]
  },
  {
   "cell_type": "markdown",
   "metadata": {},
   "source": [
    "## 3. Basic Plot: Points Only\n",
    "\n",
    "Simple scatter plot of the extracted points."
   ]
  },
  {
   "cell_type": "code",
   "execution_count": null,
   "metadata": {},
   "outputs": [],
   "source": [
    "# Use whichever dataframe you loaded (CSV or JSON)\n",
    "points_df = df  # or df_json\n",
    "\n",
    "fig, ax = plt.subplots(figsize=(10, 8))\n",
    "\n",
    "# Plot points\n",
    "ax.scatter(points_df['px_x'], points_df['px_y'], \n",
    "           c='red', s=100, marker='o', \n",
    "           edgecolors='white', linewidths=2,\n",
    "           label='Data Points', zorder=5)\n",
    "\n",
    "# Add point numbers\n",
    "for i, row in points_df.iterrows():\n",
    "    ax.text(row['px_x'], row['px_y'] - 15, str(i+1),\n",
    "           fontsize=10, color='red', weight='bold',\n",
    "           ha='center', va='bottom')\n",
    "\n",
    "ax.set_xlabel('X (pixels)')\n",
    "ax.set_ylabel('Y (pixels)')\n",
    "ax.set_title('Extracted Data Points')\n",
    "ax.legend()\n",
    "ax.grid(True, alpha=0.3)\n",
    "ax.invert_yaxis()  # Match image coordinate system (Y increases downward)\n",
    "\n",
    "plt.tight_layout()\n",
    "plt.show()"
   ]
  },
  {
   "cell_type": "markdown",
   "metadata": {},
   "source": [
    "## 4. Plot with Polynomial Fits\n",
    "\n",
    "Fit polynomials to the points and visualize the curves."
   ]
  },
  {
   "cell_type": "code",
   "execution_count": null,
   "metadata": {},
   "outputs": [],
   "source": [
    "# Sort points by X coordinate for curve fitting\n",
    "points_sorted = points_df.sort_values('px_x')\n",
    "\n",
    "x = points_sorted['px_x'].values\n",
    "y = points_sorted['px_y'].values\n",
    "\n",
    "fig, ax = plt.subplots(figsize=(12, 8))\n",
    "\n",
    "# Plot original points\n",
    "ax.scatter(x, y, c='red', s=150, marker='o', \n",
    "           edgecolors='white', linewidths=2,\n",
    "           label='Data Points', zorder=5)\n",
    "\n",
    "# Fit and plot polynomials of different degrees\n",
    "degrees = [2, 3, 4] if len(points_df) >= 5 else [2, 3]\n",
    "colors = ['cyan', 'yellow', 'lime']\n",
    "linestyles = ['-', '--', '-.']\n",
    "\n",
    "x_smooth = np.linspace(x.min(), x.max(), 200)\n",
    "\n",
    "for degree, color, ls in zip(degrees, colors, linestyles):\n",
    "    if len(points_df) > degree:\n",
    "        # Fit polynomial\n",
    "        coeffs = np.polyfit(x, y, degree)\n",
    "        poly = np.poly1d(coeffs)\n",
    "        y_smooth = poly(x_smooth)\n",
    "        \n",
    "        # Plot curve\n",
    "        ax.plot(x_smooth, y_smooth, \n",
    "               color=color, linewidth=2.5, \n",
    "               linestyle=ls, alpha=0.8,\n",
    "               label=f'Polynomial (degree {degree})')\n",
    "\n",
    "ax.set_xlabel('X (pixels)', fontsize=14)\n",
    "ax.set_ylabel('Y (pixels)', fontsize=14)\n",
    "ax.set_title('Data Points with Polynomial Fits', fontsize=16, weight='bold')\n",
    "ax.legend(loc='best', fontsize=12)\n",
    "ax.grid(True, alpha=0.3)\n",
    "ax.invert_yaxis()  # Match image coordinate system\n",
    "\n",
    "plt.tight_layout()\n",
    "plt.show()"
   ]
  },
  {
   "cell_type": "markdown",
   "metadata": {},
   "source": [
    "## 5. Overlay on Original Image (Optional)\n",
    "\n",
    "If you have the original image, you can overlay the points and curves on it."
   ]
  },
  {
   "cell_type": "code",
   "execution_count": null,
   "metadata": {},
   "outputs": [],
   "source": [
    "# Load the original image (update path as needed)\n",
    "image_path = 'test_image.png'  # Change to your image file\n",
    "\n",
    "try:\n",
    "    img = Image.open(image_path)\n",
    "    \n",
    "    # Apply rotation if specified in JSON\n",
    "    if 'data' in locals() and data['rotate_deg'] != 0:\n",
    "        img = img.rotate(data['rotate_deg'], expand=True, fillcolor='white')\n",
    "    \n",
    "    fig, ax = plt.subplots(figsize=(14, 10))\n",
    "    \n",
    "    # Display image\n",
    "    ax.imshow(img, alpha=0.8)\n",
    "    \n",
    "    # Plot points\n",
    "    ax.scatter(points_sorted['px_x'], points_sorted['px_y'], \n",
    "               c='red', s=150, marker='o', \n",
    "               edgecolors='white', linewidths=2,\n",
    "               label='Extracted Points', zorder=5)\n",
    "    \n",
    "    # Add point numbers\n",
    "    for i, (_, row) in enumerate(points_sorted.iterrows()):\n",
    "        ax.text(row['px_x'], row['px_y'] - 20, str(i+1),\n",
    "               fontsize=12, color='white', weight='bold',\n",
    "               ha='center', va='bottom',\n",
    "               bbox=dict(boxstyle='round,pad=0.4', \n",
    "                        facecolor='red', alpha=0.8))\n",
    "    \n",
    "    # Plot polynomial fits\n",
    "    for degree, color, ls in zip(degrees, colors, linestyles):\n",
    "        if len(points_df) > degree:\n",
    "            coeffs = np.polyfit(x, y, degree)\n",
    "            poly = np.poly1d(coeffs)\n",
    "            y_smooth = poly(x_smooth)\n",
    "            \n",
    "            ax.plot(x_smooth, y_smooth, \n",
    "                   color=color, linewidth=3, \n",
    "                   linestyle=ls, alpha=0.9,\n",
    "                   label=f'Fit (degree {degree})')\n",
    "    \n",
    "    ax.set_xlim(0, img.width)\n",
    "    ax.set_ylim(img.height, 0)  # Invert Y\n",
    "    ax.set_title('Points & Curves Overlaid on Original Image', \n",
    "                fontsize=16, weight='bold')\n",
    "    ax.legend(loc='upper right', fontsize=12)\n",
    "    ax.axis('off')\n",
    "    \n",
    "    plt.tight_layout()\n",
    "    plt.show()\n",
    "    \n",
    "except FileNotFoundError:\n",
    "    print(f\"Image file '{image_path}' not found. Skipping overlay plot.\")\n",
    "    print(\"Update the image_path variable to your image location.\")"
   ]
  },
  {
   "cell_type": "markdown",
   "metadata": {},
   "source": [
    "## 6. Export Polynomial Coefficients\n",
    "\n",
    "Save the fitted polynomial coefficients for animation or further analysis."
   ]
  },
  {
   "cell_type": "code",
   "execution_count": null,
   "metadata": {},
   "outputs": [],
   "source": [
    "# Fit and save polynomial coefficients\n",
    "poly_coeffs = {}\n",
    "\n",
    "for degree in [2, 3, 4, 5]:\n",
    "    if len(points_df) > degree:\n",
    "        coeffs = np.polyfit(x, y, degree)\n",
    "        poly_coeffs[f'degree_{degree}'] = coeffs.tolist()\n",
    "        \n",
    "        print(f\"\\nDegree {degree} polynomial:\")\n",
    "        print(f\"  Coefficients: {coeffs}\")\n",
    "        \n",
    "        # Create polynomial function\n",
    "        poly = np.poly1d(coeffs)\n",
    "        print(f\"  Function: {poly}\")\n",
    "\n",
    "# Save to JSON for use in other scripts\n",
    "output_file = 'polynomial_fits.json'\n",
    "with open(output_file, 'w') as f:\n",
    "    json.dump(poly_coeffs, f, indent=2)\n",
    "    \n",
    "print(f\"\\n✅ Polynomial coefficients saved to {output_file}\")"
   ]
  },
  {
   "cell_type": "markdown",
   "metadata": {},
   "source": [
    "## 7. Summary Statistics"
   ]
  },
  {
   "cell_type": "code",
   "execution_count": null,
   "metadata": {},
   "outputs": [],
   "source": [
    "print(\"=\" * 60)\n",
    "print(\"SUMMARY STATISTICS\")\n",
    "print(\"=\" * 60)\n",
    "print(f\"\\nNumber of points: {len(points_df)}\")\n",
    "print(f\"\\nX-coordinate range: [{points_df['px_x'].min():.2f}, {points_df['px_x'].max():.2f}]\")\n",
    "print(f\"Y-coordinate range: [{points_df['px_y'].min():.2f}, {points_df['px_y'].max():.2f}]\")\n",
    "print(f\"\\nX-coordinate mean: {points_df['px_x'].mean():.2f} ± {points_df['px_x'].std():.2f}\")\n",
    "print(f\"Y-coordinate mean: {points_df['px_y'].mean():.2f} ± {points_df['px_y'].std():.2f}\")\n",
    "\n",
    "if 'data' in locals():\n",
    "    print(f\"\\nImage dimensions: {data['width']} x {data['height']} px\")\n",
    "    print(f\"Rotation applied: {data['rotate_deg']}°\")"
   ]
  },
  {
   "cell_type": "markdown",
   "metadata": {},
   "source": [
    "## Next Steps\n",
    "\n",
    "1. **Replace sample files**: Update `csv_file`, `json_file`, and `image_path` with your actual downloaded files\n",
    "2. **Adjust polynomial degrees**: Experiment with different polynomial degrees for best fit\n",
    "3. **Use in Manim**: Import polynomial coefficients into Manim for animation\n",
    "4. **Further analysis**: Apply curve fitting, interpolation, or other mathematical techniques\n",
    "\n",
    "---\n",
    "\n",
    "**Happy plotting! 📊✨**"
   ]
  }
 ],
 "metadata": {
  "kernelspec": {
   "display_name": "Python 3",
   "language": "python",
   "name": "python3"
  },
  "language_info": {
   "codemirror_mode": {
    "name": "ipython",
    "version": 3
   },
   "file_extension": ".py",
   "mimetype": "text/x-python",
   "name": "python",
   "nbconvert_exporter": "python",
   "pygments_lexer": "ipython3",
   "version": "3.9.0"
  }
 },
 "nbformat": 4,
 "nbformat_minor": 4
}
